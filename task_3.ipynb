{
  "metadata": {
    "kernelspec": {
      "name": "python",
      "display_name": "Python (Pyodide)",
      "language": "python"
    },
    "language_info": {
      "codemirror_mode": {
        "name": "python",
        "version": 3
      },
      "file_extension": ".py",
      "mimetype": "text/x-python",
      "name": "python",
      "nbconvert_exporter": "python",
      "pygments_lexer": "ipython3",
      "version": "3.8"
    }
  },
  "nbformat_minor": 4,
  "nbformat": 4,
  "cells": [
    {
      "cell_type": "code",
      "source": "#task 1 \ndef count_vowels(s):\n    #define the set of vowels \n    vowels = \"aeiouAEIOU\"\n    count = 0 \n\n    for char in s:\n        if char in vowels:\n            count += 1 \n    return count\n\n#example used\nresult =count_vowels(\"Hello World\")\nprint(result)",
      "metadata": {
        "trusted": true
      },
      "outputs": [
        {
          "name": "stdout",
          "text": "3\n",
          "output_type": "stream"
        }
      ],
      "execution_count": 12
    },
    {
      "cell_type": "code",
      "source": "#task 2 \ndef find_max(nums):\n    if not nums:\n        return None\n\n    max_values = nums[0]\n\n    for num in nums:\n        if num > max_values:\n            max_values = num\n\n    return max_values\n\nresult = find_max([3, 5, 2, 8, 1])\nprint(result)\n\nempty_result = find_max([])\nprint(empty_result)",
      "metadata": {
        "trusted": true
      },
      "outputs": [
        {
          "name": "stdout",
          "text": "8\nNone\n",
          "output_type": "stream"
        }
      ],
      "execution_count": 21
    }
  ]
}